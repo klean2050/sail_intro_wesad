{
 "cells": [
  {
   "cell_type": "markdown",
   "metadata": {},
   "source": [
    "# Introduction to ECG Analysis with WESAD\n",
    "\n",
    "Take some time to explore the folder structure of WESAD in the path ``WESAD_ROOT`` specified below. You can see that there is a readme file with informaiton about the dataset and a folder per subject of the study. We have selected a random ``subject`` for our exploratory analysis. As you can see inside the subject folder, there are multiple signal files, questionnaires and information about the data collection. However, the data to be used for inference are all gathered in the ``.pkl`` file, which we will load:"
   ]
  },
  {
   "cell_type": "code",
   "execution_count": null,
   "metadata": {},
   "outputs": [],
   "source": [
    "import pickle\n",
    "\n",
    "WESAD_ROOT = \"/home/kavra/Datasets/physio/WESAD\"\n",
    "subject = \"S10\"\n",
    "\n",
    "with open(f\"{WESAD_ROOT}/{subject}/{subject}.pkl\", \"rb\") as f:\n",
    "    subject_data = pickle.load(f, encoding=\"latin1\")"
   ]
  },
  {
   "cell_type": "markdown",
   "metadata": {},
   "source": [
    "The pickle files are typically heavy, hence expect loading to take some time, especially the first time you execute it. Let's take a look at the structure of the file we loaded:"
   ]
  },
  {
   "cell_type": "code",
   "execution_count": null,
   "metadata": {},
   "outputs": [],
   "source": [
    "# Print the keys of the pickle file\n",
    "print(subject_data.keys())\n",
    "\n",
    "# TODO: Print the 'subject' element\n",
    "...\n",
    "\n",
    "# TODO: Print the 'label' element\n",
    "...\n",
    "\n",
    "# TODO: Print the keys of the 'signal' element\n",
    "...\n",
    "\n",
    "# TODO: Plot the distribution of the labels\n",
    "import matplotlib.pyplot as plt\n",
    "\n",
    "plt.figure(figsize=(20, 3))\n",
    "plt.plot(subject_data[\"label\"])\n",
    "plt.title(\"Course of the Experiment\")\n",
    "plt.xlabel(\"Time (samples)\")\n",
    "plt.ylabel(\"Task Label\")\n",
    "plt.grid(axis=\"y\", linestyle=\"--\", alpha=0.5)\n",
    "plt.show()"
   ]
  },
  {
   "cell_type": "markdown",
   "metadata": {},
   "source": [
    "The pickle file contains 3 dictionary entries, containing different information.\n",
    "* ``subject_data[\"subject\"]`` contains the name (here it is ``S10``)\n",
    "* ``subject_data[\"label\"]`` is a list of integers (0 to 7) indicating the phase of the experiment for each sample\n",
    "\n",
    "The ``signal`` entry contains our data. As you may recall, WESAD employs 2 sensors to detect physiological signals, one at the ``wrist`` (Empatica) and one around the ``chest`` (RespiBAN). We are going to use the ECG signals from the ``chest`` sensor:"
   ]
  },
  {
   "cell_type": "code",
   "execution_count": null,
   "metadata": {},
   "outputs": [],
   "source": [
    "chest_data = subject_data[\"signal\"][\"chest\"]\n",
    "print(chest_data.keys())"
   ]
  },
  {
   "cell_type": "markdown",
   "metadata": {},
   "source": [
    "RespiBAN collects 6 the 6 physiological signals you see above as keys. Here we focus on the ECG modality. Let's plot it using the matplotlib library:"
   ]
  },
  {
   "cell_type": "code",
   "execution_count": null,
   "metadata": {},
   "outputs": [],
   "source": [
    "ecg_data = chest_data[\"ECG\"].squeeze()\n",
    "\n",
    "plt.figure(figsize=(20, 3))\n",
    "plt.plot(ecg_data)\n",
    "plt.title(f\"ECG Signal from {subject}\")\n",
    "plt.xlabel(\"Time (samples)\")\n",
    "plt.ylabel(\"Normalized Signal Amplitude\")\n",
    "plt.show()"
   ]
  },
  {
   "cell_type": "markdown",
   "metadata": {},
   "source": [
    "We cannot really observe much in this plot, since it represents the ECG signal of the whole experiment. Let's plot a random short interval of 20 seconds. If you do not remember the sampling rate of RespiBAN, or any other WESAD-related information, you can find it in the readme file located in ``WESAD_ROOT``."
   ]
  },
  {
   "cell_type": "code",
   "execution_count": null,
   "metadata": {},
   "outputs": [],
   "source": [
    "# TODO: Specify the sampling rate of RespiBAN\n",
    "sampling_rate = ...\n",
    "win_length = ...\n",
    "\n",
    "# TODO: Select a random 20-second window of the ECG signal\n",
    "import numpy as np\n",
    "\n",
    "win_start = np.random.randint(0, len(ecg_data) - win_length)\n",
    "win_end = ...\n",
    "\n",
    "plt.figure(figsize=(20, 3))\n",
    "\n",
    "# TODO: Plot the selected window of the ECG signal\n",
    "time_axis = np.arange(win_start, win_end) / sampling_rate\n",
    "ecg_sample = ecg_data[win_start:win_end]\n",
    "\n",
    "plt.plot(...)\n",
    "plt.title(f\"20-second ECG Sample from {subject}\")\n",
    "plt.xlabel(\"Time (s)\")\n",
    "plt.ylabel(\"Normalized Signal Amplitude\")\n",
    "plt.show()"
   ]
  },
  {
   "cell_type": "markdown",
   "metadata": {},
   "source": [
    "You can run the above cell multiple times to get a sense of the whole ECG waveform. Note that in this plot we also altered the time axis to represent actual time in seconds rather than samples. Hopefully you can already detect the structure of a typical ECG signal in the above graph, the repeted heart beat pattern and the prominent ECG peaks, mainly the R peaks of the signal.\n",
    "\n",
    "However, you might also notice that some parts are noisy or fluctuating over time. We therefore need to clean and preprocess this signal. ECG signal preprocessing typically includes the following steps, which you will implement in order:\n",
    "\n",
    "1. Downsampling: 700 Hz is a very high sampling frequency for ECG. The type of information we are interested in usually falls below 100 Hz.\n",
    "2. Bandpass filtering: ECG can be influenced both by low-frequency (e.g., breathing) and high-frequency noise (e.g., muscle movement, electromagnetic interference). Hence, we typically apply a bandpass filter to clean the noise. Bandpass filters come with a ``low`` and ``high`` frequency thresholds and, when applied to the signal, they discard all frequency components outside this range. Here we will use the filters of the ``scipy`` library with a low of 0.67 Hz and a high of 45 Hz.\n",
    "3. Normalization: In some cases, e.g., when we want to evaluate within-subject effects over time, we choose to normalize (or z-score) the signals at hand. In that case, the whole ECG signal is already z-scored, as you can see in the first plot. Hence we do not normalize the sample."
   ]
  },
  {
   "cell_type": "code",
   "execution_count": null,
   "metadata": {},
   "outputs": [],
   "source": [
    "# TODO: downsample to 100Hz\n",
    "from scipy.signal import resample_poly\n",
    "downsampled = ...\n",
    "\n",
    "# TODO: Bandpass filtering\n",
    "from scipy.signal import butter, filtfilt\n",
    "\n",
    "# 5th order Butterworth bandpass filter from scipy\n",
    "# https://docs.scipy.org/doc/scipy/reference/generated/scipy.signal.butter.html\n",
    "lowcut, highcut = ...\n",
    "b, a = butter(5, [lowcut, highcut], btype=\"band\", fs=100)\n",
    "filtered = filtfilt(b, a, downsampled)\n",
    "\n",
    "# TODO: plot the processed ECG signal\n",
    "plt.figure(figsize=(20, 3))\n",
    "..."
   ]
  },
  {
   "cell_type": "markdown",
   "metadata": {},
   "source": [
    "Let's wrap up the analysis and clean the whole dataset, so that we can use it in the next steps of the assignment. You should implement the following for each subject in the dataset:\n",
    "\n",
    "1. Load the data using ``pickle``\n",
    "2. Isolate only the ECG signal from RespiBAN\n",
    "3. Select the samples only from the labels of interest. As a reminder, the ``data[\"label\"]`` contains a list with task numbers from 0 to 7. Legend:\n",
    "    * 0 = not defined\n",
    "    * 1 = baseline\n",
    "    * 2 = stress\n",
    "    * 3 = amusement\n",
    "    * 4 = meditation\n",
    "    * 5/6/7 = should be ignored\n",
    "    \n",
    "    For our assignment, we will only need data for label = 1 and label = 2 (baseline vs stress). Get those in separate variables.\n",
    "4. Preprocess the whole ECG data for the groups just like above, and save them in ``.npy`` files. It will take some time (15 subjects in total)."
   ]
  },
  {
   "cell_type": "code",
   "execution_count": null,
   "metadata": {},
   "outputs": [],
   "source": [
    "# These are some helper functions\n",
    "\n",
    "def get_WESAD_subjects():\n",
    "    initial = list(range(1, 18))\n",
    "    subject_list = [f\"S{i}\" for i in initial]\n",
    "    subject_list.remove(\"S1\")\n",
    "    subject_list.remove(\"S12\")\n",
    "    return subject_list\n",
    "\n",
    "def preprocess_ECG(ecg_signal, sampling_rate=700):\n",
    "    # TODO: Write the function\n",
    "    ...\n",
    "    return filtered"
   ]
  },
  {
   "cell_type": "code",
   "execution_count": null,
   "metadata": {},
   "outputs": [],
   "source": [
    "# structure of clean folder\n",
    "import os\n",
    "\n",
    "clean_dir = \"WESAD_clean\"\n",
    "os.makedirs(clean_dir, exist_ok=True)\n",
    "\n",
    "for subject in get_WESAD_subjects():\n",
    "    print(f\"Processing {subject}\")\n",
    "\n",
    "    # TODO: Load the subject's data\n",
    "    ...\n",
    "\n",
    "    # TODO: Extract the ECG signal\n",
    "    ecg_data = ...\n",
    "    label_data = ...\n",
    "\n",
    "    # TODO: Isolate label 1 (baseline) and label 2 (stress) using np.where\n",
    "    baseline_indices = ...\n",
    "    stress_indices = ...\n",
    "\n",
    "    ecg_data_baseline = ecg_data[baseline_indices]\n",
    "    ecg_data_stress = ecg_data[stress_indices]\n",
    "\n",
    "    # TODO: Preprocess the ECG signals using the function you wrote\n",
    "    ecg_data_baseline = ...\n",
    "    ecg_data_stress = ...\n",
    "\n",
    "    # Save the preprocessed ECG signals\n",
    "    np.save(f\"{clean_dir}/{subject}_baseline.npy\", ecg_data_baseline)\n",
    "    np.save(f\"{clean_dir}/{subject}_stress.npy\", ecg_data_stress)\n",
    "\n",
    "print(\"Done!\")"
   ]
  },
  {
   "cell_type": "markdown",
   "metadata": {},
   "source": [
    "That is the end of this notebook. Make sure all the clean files have been generated. You can then return and proceed to the next part of the assignment."
   ]
  },
  {
   "cell_type": "code",
   "execution_count": null,
   "metadata": {},
   "outputs": [],
   "source": [
    "check_data = np.load(f\"{clean_dir}/S10_baseline.npy\")\n",
    "assert check_data.shape[0] == 118000, \"Something went wrong :(\"\n",
    "assert len(os.listdir(clean_dir)) == 15 * 2, \"Something went wrong :(\"\n",
    "print(\"All good!\")"
   ]
  }
 ],
 "metadata": {
  "kernelspec": {
   "display_name": "precog",
   "language": "python",
   "name": "python3"
  },
  "language_info": {
   "codemirror_mode": {
    "name": "ipython",
    "version": 3
   },
   "file_extension": ".py",
   "mimetype": "text/x-python",
   "name": "python",
   "nbconvert_exporter": "python",
   "pygments_lexer": "ipython3",
   "version": "3.9.18"
  }
 },
 "nbformat": 4,
 "nbformat_minor": 2
}
