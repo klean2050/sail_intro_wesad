{
 "cells": [
  {
   "cell_type": "markdown",
   "metadata": {},
   "source": [
    "# Heart Rate Feature Extraction\n",
    "\n",
    "In the previous section we cleaned the ECG data from WESAD, so that we can now extract the features of interest. Specifically, we are interested in extracting heart rate (HR) and heart rate variability features, in order to differentiate stressful sessions from baseline cardiac activity. Let us first build the algorithms using a sample ECG signal from WESAD:"
   ]
  },
  {
   "cell_type": "code",
   "execution_count": null,
   "metadata": {},
   "outputs": [],
   "source": [
    "import numpy as np, os\n",
    "\n",
    "clean_path = \"WESAD_clean/\"\n",
    "subject = \"S10\"\n",
    "session = \"baseline\"\n",
    "\n",
    "# Load the 1D np.array using os.path.join and np.load\n",
    "filepath = os.path.join(clean_path, f\"{subject}_{session}.npy\")\n",
    "sample_ecg = np.load(filepath)[10000:13000]\n",
    "\n",
    "print(sample_ecg.shape)"
   ]
  },
  {
   "cell_type": "markdown",
   "metadata": {},
   "source": [
    "Heart rate is the estimated number of heartbeats per minute, and it is computed simply by\n",
    "1. locating the time points of R peaks\n",
    "2. counting the number of R peaks in the signal\n",
    "3. dividing this number by the signal length (in minutes -> BPM)\n",
    "\n",
    "Let us first detect the R peaks in the given ECG signal using the ``scipy.signal`` library:"
   ]
  },
  {
   "cell_type": "code",
   "execution_count": null,
   "metadata": {},
   "outputs": [],
   "source": [
    "from scipy.signal import find_peaks\n",
    "\n",
    "peaks, _ = find_peaks(\n",
    "    sample_ecg,     # the ECG signal\n",
    "    height=0.1,     # minimum peak height (safe value for normalized ECG is 0.1)\n",
    "    threshold=0.01, # minimum peak height difference to neighbors (safe value is 0.01)\n",
    "    distance=30     # minimum distance between each peak (30 samples (~0.3s) is safe for 100Hz)\n",
    ")\n",
    "\n",
    "# Visualize the peaks we calculated\n",
    "import matplotlib.pyplot as plt\n",
    "\n",
    "plt.figure(figsize=(20, 3))\n",
    "plt.plot(sample_ecg)\n",
    "plt.plot(peaks, sample_ecg[peaks], marker=\"o\", color=\"red\", ls=\"\")\n",
    "plt.title(\"ECG with R-peaks\")\n",
    "plt.xlabel(\"Sample number\")\n",
    "plt.ylabel(\"Amplitude\")\n",
    "plt.show()"
   ]
  },
  {
   "cell_type": "markdown",
   "metadata": {},
   "source": [
    "We can now count the number of peaks in the interval we have and calculate the heart rate:"
   ]
  },
  {
   "cell_type": "code",
   "execution_count": null,
   "metadata": {},
   "outputs": [],
   "source": [
    "# TODO: Count the number of peaks in <sample_ecg>\n",
    "num_peaks = ...\n",
    "print(f\"Number of peaks: {num_peaks}\")\n",
    "\n",
    "# TODO: Calculate the heart rate in beats per MINUTE (BPM)\n",
    "signal_len = ...\n",
    "heart_rate = ...\n",
    "print(f\"Heart rate: {heart_rate:.2f} BPM\")"
   ]
  },
  {
   "cell_type": "markdown",
   "metadata": {},
   "source": [
    "Let us now verify our algorithm by comparing what we got with a popular ECG library:"
   ]
  },
  {
   "cell_type": "code",
   "execution_count": null,
   "metadata": {},
   "outputs": [],
   "source": [
    "import neurokit2 as nk\n",
    "\n",
    "# calculate the heart rate using the `nk.ecg_rate()` function\n",
    "_, rpeaks = nk.ecg_peaks(sample_ecg, sampling_rate=100)\n",
    "heart_rate = nk.ecg_rate(rpeaks, sampling_rate=100, desired_length=len(sample_ecg))\n",
    "overall_heart_rate = np.mean(heart_rate)\n",
    "print(f\"Benchmark heart rate: {overall_heart_rate:.2f} BPM\")"
   ]
  },
  {
   "cell_type": "markdown",
   "metadata": {},
   "source": [
    "Your estimation should be pretty close to the benchmark one (+- 0.5 BPM). Any small differences are drawn from the library's behavior to estimate heart rate per individual sample. If you want, you can replicate that behavior by applying your algorithm with a sliding window over the ECG signal. This is however out of the scope of this assignment.\n",
    "\n",
    "Now that we established the algorithm for heart rate extraction, let us build it in a separate function:"
   ]
  },
  {
   "cell_type": "code",
   "execution_count": null,
   "metadata": {},
   "outputs": [],
   "source": [
    "def calculate_heart_rate(signal, sampling_rate=100):\n",
    "    # TODO: Write the function\n",
    "    ...\n",
    "    return heart_rate"
   ]
  },
  {
   "cell_type": "markdown",
   "metadata": {},
   "source": [
    "Great, now let's build a feature extraction function for HRV. There are multiple HRV measures that we can use. One of the most popular is called RMSSD, i.e., the RMS value of the successive differences between heartbeats (R peaks). The name is self-explanatory, hence let's compute it based on what we know:"
   ]
  },
  {
   "cell_type": "code",
   "execution_count": null,
   "metadata": {},
   "outputs": [],
   "source": [
    "# TODO: Find the peaks in the ECG signal\n",
    "peaks, _ = ...\n",
    "# TODO: Calculate the RR interval duration in MILISECONDS using np.diff()\n",
    "time_diff = ...\n",
    "# TODO: calculate the difference between successive intervals\n",
    "time_diff_intervals = ...\n",
    "# TODO: calculate the RMS value of the differences\n",
    "rmssd = ...\n",
    "\n",
    "print(f\"RMSSD: {rmssd:.2f} ms\")"
   ]
  },
  {
   "cell_type": "markdown",
   "metadata": {},
   "source": [
    "Let us now verify our algorithm by comparing what we got with Neurokit:"
   ]
  },
  {
   "cell_type": "code",
   "execution_count": null,
   "metadata": {},
   "outputs": [],
   "source": [
    "peaks_nk, _ = nk.ecg_peaks(sample_ecg, sampling_rate=100)\n",
    "hrv = nk.hrv_time(peaks_nk, sampling_rate=100, show=False)\n",
    "rmssd = hrv[\"HRV_RMSSD\"].values[0]\n",
    "print(f\"Benchmark RMSSD: {rmssd:.2f} ms\")"
   ]
  },
  {
   "cell_type": "markdown",
   "metadata": {},
   "source": [
    "Your estimation should match the benchmark (acceptable error +- 0.2 ms). Let's now write the HRV extraction function:"
   ]
  },
  {
   "cell_type": "code",
   "execution_count": null,
   "metadata": {},
   "outputs": [],
   "source": [
    "def calculate_hrv(signal, sampling_rate=100):\n",
    "    # TODO: Write the function\n",
    "    ...\n",
    "    return rmssd"
   ]
  },
  {
   "cell_type": "markdown",
   "metadata": {},
   "source": [
    "We have successfully built the feature extraction functions for our task. To finish this assignment, we need to perform the feature extraction over the whole clean dataset. To increase the size for our experiments, we will slice each clean ECG into subsignals of 5 minutes, with 20% overlap, and compute the features on those intervals. Let us code a function for that:"
   ]
  },
  {
   "cell_type": "code",
   "execution_count": null,
   "metadata": {},
   "outputs": [],
   "source": [
    "def slice_signal(signal, slice_len, overlap):\n",
    "    # calculate the number of slices we can take\n",
    "    num_slices = (len(signal) - slice_len) // (slice_len - overlap) + 1\n",
    "    # constrain the signal\n",
    "    # create a 2D array to hold the slices\n",
    "    slices = np.zeros((num_slices, slice_len))\n",
    "    for i in range(num_slices):\n",
    "        # calculate the start and end of the current slice\n",
    "        start = i * (slice_len - overlap)\n",
    "        end = start + slice_len\n",
    "        # store the slice in the 2D array\n",
    "        slices[i] = signal[start:end]\n",
    "    return slices\n",
    "\n",
    "# test the function on the whole sample ECG signal\n",
    "sample_ecg = np.load(filepath) # see top of the notebook\n",
    "slice_len = 5 * 60 * 100 # 5 minutes of ECG signal\n",
    "overlap = 1 * 60 * 100 # 1 minute of overlap\n",
    "\n",
    "slices = slice_signal(sample_ecg, slice_len, overlap)\n",
    "print(slices.shape)"
   ]
  },
  {
   "cell_type": "markdown",
   "metadata": {},
   "source": [
    "Hopefully the function works as expected. Now let's code the complete feature (and label) extraction process:"
   ]
  },
  {
   "cell_type": "code",
   "execution_count": null,
   "metadata": {},
   "outputs": [],
   "source": [
    "features, labels = [], []\n",
    "for npy_file in os.listdir(clean_path):\n",
    "    # TODO: Load the data file using np.load\n",
    "    data = ...\n",
    "\n",
    "    # TODO: Slice the data into 5-minute segments with 1-minute overlap\n",
    "    slice_len = ...\n",
    "    overlap = ...\n",
    "    slices = slice_signal(data, slice_len, overlap)\n",
    "\n",
    "    # TODO: Calculate the heart rate features and labels\n",
    "    for i, slice in enumerate(slices):\n",
    "        # feature information\n",
    "        hr = ...\n",
    "        rmssd = ...\n",
    "        features.append([hr, rmssd])\n",
    "\n",
    "        # label information\n",
    "        pid = npy_file.split(\"_\")[0]\n",
    "        pid = int(pid[1:])\n",
    "        session = npy_file.split(\"_\")[1].split(\".\")[0]\n",
    "        session = 0 if session == \"baseline\" else 1\n",
    "        labels.append([pid, session])\n",
    "\n",
    "# TODO: Save the features and labels to a file\n",
    "np.save(\"final_features.npy\", np.array(features))\n",
    "np.save(\"final_labels.npy\", np.array(labels))\n",
    "\n",
    "print(\"Done!\")"
   ]
  },
  {
   "cell_type": "markdown",
   "metadata": {},
   "source": [
    "That is the end of this notebook. Make sure the generated file has the correct shape. You can then return and proceed to the next part of the assignment."
   ]
  },
  {
   "cell_type": "code",
   "execution_count": null,
   "metadata": {},
   "outputs": [],
   "source": [
    "check_data = np.load(\"final_features.npy\")\n",
    "assert check_data.shape == (90, 2), \"The shape of the data is incorrect :(\"\n",
    "print(\"All good!\")"
   ]
  }
 ],
 "metadata": {
  "kernelspec": {
   "display_name": "precog",
   "language": "python",
   "name": "python3"
  },
  "language_info": {
   "codemirror_mode": {
    "name": "ipython",
    "version": 3
   },
   "file_extension": ".py",
   "mimetype": "text/x-python",
   "name": "python",
   "nbconvert_exporter": "python",
   "pygments_lexer": "ipython3",
   "version": "3.9.7"
  }
 },
 "nbformat": 4,
 "nbformat_minor": 2
}
